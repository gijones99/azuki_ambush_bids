{
 "cells": [
  {
   "cell_type": "code",
   "execution_count": 1,
   "metadata": {},
   "outputs": [],
   "source": [
    "import pandas as pd\n",
    "import warnings\n",
    "warnings.filterwarnings('ignore')"
   ]
  },
  {
   "cell_type": "code",
   "execution_count": 2,
   "metadata": {},
   "outputs": [],
   "source": [
    "AZUKI_AMBUSH_CONTRACT = \"0x71534ecf6dfc97f8cc740717fd67f2efaa00c04b\"\n",
    "\n",
    "# COMBINATIONS OF BIDS & THEIR PRICES\n",
    "\n",
    "## 1 ITEM\n",
    "GOLD_PENDENT_PRICE = 1\n",
    "SILVER_PENDENT_PRICE = 0.35\n",
    "HOODIE_PRICE = 0.55\n",
    "\n",
    "## 2 ITEMS\n",
    "TWO_HOODIES = round(HOODIE_PRICE * 2, 3)\n",
    "TWO_PENDENTS = round(SILVER_PENDENT_PRICE + GOLD_PENDENT_PRICE, 3)\n",
    "HOODIE_GOLD_PENDENT = round(HOODIE_PRICE + GOLD_PENDENT_PRICE, 3)\n",
    "HOODIE_SILVER_PENDENT = round(HOODIE_PRICE + SILVER_PENDENT_PRICE, 3)\n",
    "\n",
    "## 3 ITEMS \n",
    "TWO_HOODIES_GOLD_PENDENT = round(TWO_HOODIES + GOLD_PENDENT_PRICE, 3)\n",
    "TWO_HOODIES_SILVER_PENDENT = round(TWO_HOODIES + SILVER_PENDENT_PRICE, 3)\n",
    "HOODIE_GOLD_SILVER_PENDENTS = round(TWO_PENDENTS + HOODIE_PRICE, 3)\n",
    "\n",
    "## 4 ITEMS\n",
    "ALL_ITEMS = round(TWO_HOODIES + TWO_PENDENTS, 3)"
   ]
  },
  {
   "cell_type": "code",
   "execution_count": 3,
   "metadata": {},
   "outputs": [],
   "source": [
    "# array of items count: [HOODIES, SILVER PENDENT, GOLD PENDENT]\n",
    "\n",
    "ALL_COMB_DICT_UNCLEAN = {\n",
    "    \"GOLD_PENDENT_PRICE\": ( GOLD_PENDENT_PRICE, [0,0,1] ),\n",
    "    \"SILVER_PENDENT_PRICE\": ( SILVER_PENDENT_PRICE, [0,1,0] ),\n",
    "    \"HOODIE_PRICE\": ( HOODIE_PRICE, [1,0,0] ),\n",
    "    \"TWO_HOODIES\": ( TWO_HOODIES, [2,0,0] ),\n",
    "    \"TWO_PENDENTS\": ( TWO_PENDENTS, [0,1,1] ),\n",
    "    \"HOODIE_GOLD_PENDENT\": ( HOODIE_GOLD_PENDENT, [1,0,1] ),\n",
    "    \"HOODIE_SILVER_PENDENT\": ( HOODIE_SILVER_PENDENT, [1,1,0] ),\n",
    "    \"TWO_HOODIES_GOLD_PENDENT\": ( TWO_HOODIES_GOLD_PENDENT, [2,0,1] ),\n",
    "    \"TWO_HOODIES_SILVER_PENDENT\": ( TWO_HOODIES_SILVER_PENDENT, [2,1,1] ),\n",
    "    \"HOODIE_GOLD_SILVER_PENDENTS\": ( HOODIE_GOLD_SILVER_PENDENTS, [2,1,0] ),\n",
    "    \"ALL_ITEMS\": ( ALL_ITEMS, [2,1,1] )\n",
    "}\n",
    "\n"
   ]
  },
  {
   "cell_type": "code",
   "execution_count": 4,
   "metadata": {},
   "outputs": [],
   "source": [
    "ALL_COMB_DICT_CLEAN = {k:( v[0], v[1]) for k, v in ALL_COMB_DICT_UNCLEAN.items()}\n",
    "REF_DICT = {v[0]: (k, v[1]) for k, v in ALL_COMB_DICT_CLEAN.items()}"
   ]
  },
  {
   "cell_type": "code",
   "execution_count": 5,
   "metadata": {},
   "outputs": [
    {
     "data": {
      "text/plain": [
       "{1: ('GOLD_PENDENT_PRICE', [0, 0, 1]),\n",
       " 0.35: ('SILVER_PENDENT_PRICE', [0, 1, 0]),\n",
       " 0.55: ('HOODIE_PRICE', [1, 0, 0]),\n",
       " 1.1: ('TWO_HOODIES', [2, 0, 0]),\n",
       " 1.35: ('TWO_PENDENTS', [0, 1, 1]),\n",
       " 1.55: ('HOODIE_GOLD_PENDENT', [1, 0, 1]),\n",
       " 0.9: ('HOODIE_SILVER_PENDENT', [1, 1, 0]),\n",
       " 2.1: ('TWO_HOODIES_GOLD_PENDENT', [2, 0, 1]),\n",
       " 1.45: ('TWO_HOODIES_SILVER_PENDENT', [2, 1, 1]),\n",
       " 1.9: ('HOODIE_GOLD_SILVER_PENDENTS', [2, 1, 0]),\n",
       " 2.45: ('ALL_ITEMS', [2, 1, 1])}"
      ]
     },
     "execution_count": 5,
     "metadata": {},
     "output_type": "execute_result"
    }
   ],
   "source": [
    "REF_DICT"
   ]
  },
  {
   "cell_type": "code",
   "execution_count": 6,
   "metadata": {},
   "outputs": [],
   "source": [
    "## DATA TAKEN 5:05PM SINGAPORE TIME OFF AZUKI AMBUSH CONTRACT\n",
    "df = pd.read_csv(\"export_azuki_ambush.csv\", index_col=False)"
   ]
  },
  {
   "cell_type": "code",
   "execution_count": 7,
   "metadata": {},
   "outputs": [],
   "source": [
    "deposits_df = df[ df[\"Value_IN(ETH)\"] > 0.0 ]\n",
    "deposits_df[\"hoodies_count\"] = 0\n",
    "deposits_df[\"silver_pendent_count\"] = 0\n",
    "deposits_df[\"gold_pendent_count\"] = 0"
   ]
  },
  {
   "cell_type": "code",
   "execution_count": 8,
   "metadata": {},
   "outputs": [],
   "source": [
    "def get_bid_counts(row):\n",
    "    value_transferred = row[\"Value_IN(ETH)\"]\n",
    "    bid_counts_arr = REF_DICT[value_transferred][1]\n",
    "    row[\"hoodies_count\"] = bid_counts_arr[0]\n",
    "    row[\"silver_pendent_count\"] = bid_counts_arr[1]\n",
    "    row[\"gold_pendent_count\"] = bid_counts_arr[2]\n",
    "\n",
    "    return row"
   ]
  },
  {
   "cell_type": "code",
   "execution_count": 9,
   "metadata": {},
   "outputs": [],
   "source": [
    "final_df = deposits_df.apply(get_bid_counts, axis=1)"
   ]
  },
  {
   "cell_type": "code",
   "execution_count": 10,
   "metadata": {},
   "outputs": [
    {
     "name": "stdout",
     "output_type": "stream",
     "text": [
      "Hoodies: 1019 bids [for 1000 pieces], odds: 98.14%\n",
      "Silver pendent: 798 bids [for 500 pieces], odds: 62.66%\n",
      "Gold pendent: 658 bids [for 50 pieces], odds: 7.6%\n"
     ]
    }
   ],
   "source": [
    "print(f\"Hoodies: {final_df.hoodies_count.sum()} bids [for 1000 pieces], odds: {round(1000/final_df.hoodies_count.sum()*100, 2)}%\")\n",
    "print(f\"Silver pendent: {final_df.silver_pendent_count.sum()} bids [for 500 pieces], odds: {round(500/final_df.silver_pendent_count.sum()*100, 2)}%\")\n",
    "print(f\"Gold pendent: {final_df.gold_pendent_count.sum()} bids [for 50 pieces], odds: {round(50/final_df.gold_pendent_count.sum()*100, 2)}%\")"
   ]
  },
  {
   "cell_type": "code",
   "execution_count": 11,
   "metadata": {},
   "outputs": [
    {
     "data": {
      "text/plain": [
       "<matplotlib.axes._subplots.AxesSubplot at 0x7fe39715ac50>"
      ]
     },
     "execution_count": 11,
     "metadata": {},
     "output_type": "execute_result"
    },
    {
     "data": {
      "image/png": "[encoded data removed]",
      "text/plain": [
       "<Figure size 432x288 with 1 Axes>"
      ]
     },
     "metadata": {
      "needs_background": "light"
     },
     "output_type": "display_data"
    }
   ],
   "source": [
    "sorted = final_df.sort_values(\"UnixTimestamp\", axis=0)\n",
    "sorted[\"hoodies_count\"].cumsum().plot(color=\"red\", legend= True)\n",
    "sorted[\"silver_pendent_count\"].sort_index().cumsum().plot(color = \"blue\", legend=True)\n",
    "sorted[\"gold_pendent_count\"].sort_index().cumsum().plot(color = \"gold\", legend=True)"
   ]
  }
 ],
 "metadata": {
  "kernelspec": {
   "display_name": "Python 3.7.4 ('base')",
   "language": "python",
   "name": "python3"
  },
  "language_info": {
   "codemirror_mode": {
    "name": "ipython",
    "version": 3
   },
   "file_extension": ".py",
   "mimetype": "text/x-python",
   "name": "python",
   "nbconvert_exporter": "python",
   "pygments_lexer": "ipython3",
   "version": "3.7.4"
  },
  "orig_nbformat": 4,
  "vscode": {
   "interpreter": {
    "hash": "3926a454e6f305e3fd7820c6aac3c4b60cb3aed932b8f3797d912b033336821e"
   }
  }
 },
 "nbformat": 4,
 "nbformat_minor": 2
}
